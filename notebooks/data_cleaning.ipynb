{
 "cells": [
  {
   "cell_type": "code",
   "execution_count": 14,
   "id": "94a752f2",
   "metadata": {},
   "outputs": [],
   "source": [
    "import numpy as np, pandas as pd\n",
    "import matplotlib.pyplot as plt"
   ]
  },
  {
   "cell_type": "code",
   "execution_count": 50,
   "id": "058965ab",
   "metadata": {},
   "outputs": [],
   "source": [
    "data = pd.read_csv(r\"D:\\samiran\\data_sets\\online_store_customer_data.csv\", parse_dates=[\"Transaction_date\"])\n",
    "df = pd.DataFrame(data)"
   ]
  },
  {
   "cell_type": "markdown",
   "id": "dc61558f",
   "metadata": {},
   "source": [
    "### Information about the Dataset"
   ]
  },
  {
   "cell_type": "code",
   "execution_count": 51,
   "id": "ca365b8f",
   "metadata": {},
   "outputs": [
    {
     "name": "stdout",
     "output_type": "stream",
     "text": [
      "<class 'pandas.core.frame.DataFrame'>\n",
      "RangeIndex: 2512 entries, 0 to 2511\n",
      "Data columns (total 11 columns):\n",
      " #   Column            Non-Null Count  Dtype         \n",
      "---  ------            --------------  -----         \n",
      " 0   Transaction_date  2512 non-null   datetime64[ns]\n",
      " 1   Transaction_ID    2512 non-null   int64         \n",
      " 2   Gender            2484 non-null   object        \n",
      " 3   Age               2470 non-null   float64       \n",
      " 4   Marital_status    2512 non-null   object        \n",
      " 5   State_names       2512 non-null   object        \n",
      " 6   Segment           2512 non-null   object        \n",
      " 7   Employees_status  2486 non-null   object        \n",
      " 8   Payment_method    2512 non-null   object        \n",
      " 9   Referal           2357 non-null   float64       \n",
      " 10  Amount_spent      2270 non-null   float64       \n",
      "dtypes: datetime64[ns](1), float64(3), int64(1), object(6)\n",
      "memory usage: 216.0+ KB\n"
     ]
    }
   ],
   "source": [
    "df.info()"
   ]
  },
  {
   "cell_type": "code",
   "execution_count": 4,
   "id": "b46c1559",
   "metadata": {},
   "outputs": [
    {
     "data": {
      "text/html": [
       "<div>\n",
       "<style scoped>\n",
       "    .dataframe tbody tr th:only-of-type {\n",
       "        vertical-align: middle;\n",
       "    }\n",
       "\n",
       "    .dataframe tbody tr th {\n",
       "        vertical-align: top;\n",
       "    }\n",
       "\n",
       "    .dataframe thead th {\n",
       "        text-align: right;\n",
       "    }\n",
       "</style>\n",
       "<table border=\"1\" class=\"dataframe\">\n",
       "  <thead>\n",
       "    <tr style=\"text-align: right;\">\n",
       "      <th></th>\n",
       "      <th>Transaction_date</th>\n",
       "      <th>Transaction_ID</th>\n",
       "      <th>Age</th>\n",
       "      <th>Referal</th>\n",
       "      <th>Amount_spent</th>\n",
       "    </tr>\n",
       "  </thead>\n",
       "  <tbody>\n",
       "    <tr>\n",
       "      <th>count</th>\n",
       "      <td>2512</td>\n",
       "      <td>2512.000000</td>\n",
       "      <td>2470.000000</td>\n",
       "      <td>2357.000000</td>\n",
       "      <td>2270.000000</td>\n",
       "    </tr>\n",
       "    <tr>\n",
       "      <th>mean</th>\n",
       "      <td>2020-02-25 06:14:19.872611328</td>\n",
       "      <td>152443.931131</td>\n",
       "      <td>46.637652</td>\n",
       "      <td>0.652100</td>\n",
       "      <td>1418.422577</td>\n",
       "    </tr>\n",
       "    <tr>\n",
       "      <th>min</th>\n",
       "      <td>2019-01-01 00:00:00</td>\n",
       "      <td>151200.000000</td>\n",
       "      <td>15.000000</td>\n",
       "      <td>0.000000</td>\n",
       "      <td>2.090000</td>\n",
       "    </tr>\n",
       "    <tr>\n",
       "      <th>25%</th>\n",
       "      <td>2019-07-23 00:00:00</td>\n",
       "      <td>151815.750000</td>\n",
       "      <td>32.000000</td>\n",
       "      <td>0.000000</td>\n",
       "      <td>678.192500</td>\n",
       "    </tr>\n",
       "    <tr>\n",
       "      <th>50%</th>\n",
       "      <td>2020-02-16 00:00:00</td>\n",
       "      <td>152443.500000</td>\n",
       "      <td>47.000000</td>\n",
       "      <td>1.000000</td>\n",
       "      <td>1341.435000</td>\n",
       "    </tr>\n",
       "    <tr>\n",
       "      <th>75%</th>\n",
       "      <td>2020-09-23 00:00:00</td>\n",
       "      <td>153071.250000</td>\n",
       "      <td>62.000000</td>\n",
       "      <td>1.000000</td>\n",
       "      <td>2038.102500</td>\n",
       "    </tr>\n",
       "    <tr>\n",
       "      <th>max</th>\n",
       "      <td>2021-05-01 00:00:00</td>\n",
       "      <td>153699.000000</td>\n",
       "      <td>78.000000</td>\n",
       "      <td>1.000000</td>\n",
       "      <td>2999.980000</td>\n",
       "    </tr>\n",
       "    <tr>\n",
       "      <th>std</th>\n",
       "      <td>NaN</td>\n",
       "      <td>724.580482</td>\n",
       "      <td>18.186277</td>\n",
       "      <td>0.476405</td>\n",
       "      <td>878.507451</td>\n",
       "    </tr>\n",
       "  </tbody>\n",
       "</table>\n",
       "</div>"
      ],
      "text/plain": [
       "                    Transaction_date  Transaction_ID          Age  \\\n",
       "count                           2512     2512.000000  2470.000000   \n",
       "mean   2020-02-25 06:14:19.872611328   152443.931131    46.637652   \n",
       "min              2019-01-01 00:00:00   151200.000000    15.000000   \n",
       "25%              2019-07-23 00:00:00   151815.750000    32.000000   \n",
       "50%              2020-02-16 00:00:00   152443.500000    47.000000   \n",
       "75%              2020-09-23 00:00:00   153071.250000    62.000000   \n",
       "max              2021-05-01 00:00:00   153699.000000    78.000000   \n",
       "std                              NaN      724.580482    18.186277   \n",
       "\n",
       "           Referal  Amount_spent  \n",
       "count  2357.000000   2270.000000  \n",
       "mean      0.652100   1418.422577  \n",
       "min       0.000000      2.090000  \n",
       "25%       0.000000    678.192500  \n",
       "50%       1.000000   1341.435000  \n",
       "75%       1.000000   2038.102500  \n",
       "max       1.000000   2999.980000  \n",
       "std       0.476405    878.507451  "
      ]
     },
     "execution_count": 4,
     "metadata": {},
     "output_type": "execute_result"
    }
   ],
   "source": [
    "df.describe()"
   ]
  },
  {
   "cell_type": "code",
   "execution_count": 5,
   "id": "5d51919e",
   "metadata": {},
   "outputs": [
    {
     "data": {
      "text/html": [
       "<div>\n",
       "<style scoped>\n",
       "    .dataframe tbody tr th:only-of-type {\n",
       "        vertical-align: middle;\n",
       "    }\n",
       "\n",
       "    .dataframe tbody tr th {\n",
       "        vertical-align: top;\n",
       "    }\n",
       "\n",
       "    .dataframe thead th {\n",
       "        text-align: right;\n",
       "    }\n",
       "</style>\n",
       "<table border=\"1\" class=\"dataframe\">\n",
       "  <thead>\n",
       "    <tr style=\"text-align: right;\">\n",
       "      <th></th>\n",
       "      <th>Gender</th>\n",
       "      <th>Marital_status</th>\n",
       "      <th>State_names</th>\n",
       "      <th>Segment</th>\n",
       "      <th>Employees_status</th>\n",
       "      <th>Payment_method</th>\n",
       "    </tr>\n",
       "  </thead>\n",
       "  <tbody>\n",
       "    <tr>\n",
       "      <th>count</th>\n",
       "      <td>2484</td>\n",
       "      <td>2512</td>\n",
       "      <td>2512</td>\n",
       "      <td>2512</td>\n",
       "      <td>2486</td>\n",
       "      <td>2512</td>\n",
       "    </tr>\n",
       "    <tr>\n",
       "      <th>unique</th>\n",
       "      <td>2</td>\n",
       "      <td>2</td>\n",
       "      <td>50</td>\n",
       "      <td>5</td>\n",
       "      <td>4</td>\n",
       "      <td>3</td>\n",
       "    </tr>\n",
       "    <tr>\n",
       "      <th>top</th>\n",
       "      <td>Female</td>\n",
       "      <td>Married</td>\n",
       "      <td>Illinois</td>\n",
       "      <td>Basic</td>\n",
       "      <td>Employees</td>\n",
       "      <td>PayPal</td>\n",
       "    </tr>\n",
       "    <tr>\n",
       "      <th>freq</th>\n",
       "      <td>1356</td>\n",
       "      <td>1473</td>\n",
       "      <td>67</td>\n",
       "      <td>1136</td>\n",
       "      <td>946</td>\n",
       "      <td>1168</td>\n",
       "    </tr>\n",
       "  </tbody>\n",
       "</table>\n",
       "</div>"
      ],
      "text/plain": [
       "        Gender Marital_status State_names Segment Employees_status  \\\n",
       "count     2484           2512        2512    2512             2486   \n",
       "unique       2              2          50       5                4   \n",
       "top     Female        Married    Illinois   Basic        Employees   \n",
       "freq      1356           1473          67    1136              946   \n",
       "\n",
       "       Payment_method  \n",
       "count            2512  \n",
       "unique              3  \n",
       "top            PayPal  \n",
       "freq             1168  "
      ]
     },
     "execution_count": 5,
     "metadata": {},
     "output_type": "execute_result"
    }
   ],
   "source": [
    "df.describe(include='object')"
   ]
  },
  {
   "cell_type": "code",
   "execution_count": 52,
   "id": "d0653eaf",
   "metadata": {},
   "outputs": [
    {
     "data": {
      "text/plain": [
       "Transaction_date    datetime64[ns]\n",
       "Transaction_ID               int64\n",
       "Gender                      object\n",
       "Age                          Int64\n",
       "Marital_status              object\n",
       "State_names                 object\n",
       "Segment                     object\n",
       "Employees_status            object\n",
       "Payment_method              object\n",
       "Referal                      Int64\n",
       "Amount_spent               float64\n",
       "dtype: object"
      ]
     },
     "execution_count": 52,
     "metadata": {},
     "output_type": "execute_result"
    }
   ],
   "source": [
    "df[[\"Age\", \"Referal\"]]=df[[\"Age\", \"Referal\"]].astype(\"Int64\")\n",
    "df.dtypes"
   ]
  },
  {
   "cell_type": "markdown",
   "id": "b1b1e0e3",
   "metadata": {},
   "source": [
    "### Handling missing values"
   ]
  },
  {
   "cell_type": "code",
   "execution_count": null,
   "id": "666a64d5",
   "metadata": {},
   "outputs": [
    {
     "data": {
      "text/plain": [
       "Transaction_date      0\n",
       "Transaction_ID        0\n",
       "Gender               28\n",
       "Age                  42\n",
       "Marital_status        0\n",
       "State_names           0\n",
       "Segment               0\n",
       "Employees_status     26\n",
       "Payment_method        0\n",
       "Referal             155\n",
       "Amount_spent        242\n",
       "dtype: int64"
      ]
     },
     "execution_count": 30,
     "metadata": {},
     "output_type": "execute_result"
    }
   ],
   "source": [
    "df.isnull().sum()"
   ]
  },
  {
   "cell_type": "code",
   "execution_count": 53,
   "id": "b30fdf55",
   "metadata": {},
   "outputs": [],
   "source": [
    "df = df.dropna(subset=\"Amount_spent\", ignore_index=True)"
   ]
  },
  {
   "cell_type": "code",
   "execution_count": 54,
   "id": "e5896ab1",
   "metadata": {},
   "outputs": [],
   "source": [
    "df.loc[:, \"Gender\"] = df[\"Gender\"].bfill()"
   ]
  },
  {
   "cell_type": "code",
   "execution_count": 61,
   "id": "7001894b",
   "metadata": {},
   "outputs": [],
   "source": [
    "df[\"Referal\"] = df[\"Referal\"].fillna(df[\"Referal\"].mode(dropna=True)[0])"
   ]
  },
  {
   "cell_type": "code",
   "execution_count": 64,
   "id": "bdce5cb8",
   "metadata": {},
   "outputs": [],
   "source": [
    "def random_imputation(df, col):\n",
    "    missing = df[col].isnull()\n",
    "    df.loc[missing, col] = np.random.choice(df.loc[~missing, col], size=missing.sum(), replace=True)\n",
    "    return df\n",
    "\n",
    "df = random_imputation(df, \"Age\")"
   ]
  },
  {
   "cell_type": "code",
   "execution_count": 65,
   "id": "de0e26a0",
   "metadata": {},
   "outputs": [
    {
     "data": {
      "image/png": "[encoded data removed]",
      "text/plain": [
       "<Figure size 640x480 with 1 Axes>"
      ]
     },
     "metadata": {},
     "output_type": "display_data"
    }
   ],
   "source": [
    "age_counts = df[\"Age\"].value_counts().sort_index()\n",
    "age_counts.plot.bar()\n",
    "plt.xlabel(\"Age\")\n",
    "plt.ylabel(\"Count\")\n",
    "plt.title(\"Count of Each Age\")\n",
    "plt.show()"
   ]
  },
  {
   "cell_type": "code",
   "execution_count": 67,
   "id": "e078280f",
   "metadata": {},
   "outputs": [],
   "source": [
    "df[\"Employees_status\"] = df[\"Employees_status\"].fillna(\"Others\")"
   ]
  },
  {
   "cell_type": "code",
   "execution_count": null,
   "id": "498062f6",
   "metadata": {},
   "outputs": [],
   "source": [
    "df.to_csv(r\"D:\\samiran\\data_sets\\final_customer_data.csv\")"
   ]
  }
 ],
 "metadata": {
  "kernelspec": {
   "display_name": "Python 3",
   "language": "python",
   "name": "python3"
  },
  "language_info": {
   "codemirror_mode": {
    "name": "ipython",
    "version": 3
   },
   "file_extension": ".py",
   "mimetype": "text/x-python",
   "name": "python",
   "nbconvert_exporter": "python",
   "pygments_lexer": "ipython3",
   "version": "3.12.6"
  }
 },
 "nbformat": 4,
 "nbformat_minor": 5
}
